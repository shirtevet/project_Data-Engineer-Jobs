{
 "cells": [
  {
   "cell_type": "markdown",
   "id": "2ccc6a87-a8a7-4027-a5c6-46f4b8bfd20f",
   "metadata": {},
   "source": [
    "מגישות:\n",
    "נועה פרומקיס,\n",
    "נועה זילברשטיין,\n",
    "חן אופיר גולן\n",
    "ושיר טבת "
   ]
  },
  {
   "cell_type": "markdown",
   "id": "289e30be-79fa-4622-8297-a0439be80ba9",
   "metadata": {},
   "source": [
    "הנתונים לקחו מאתר קאגל:https://www.kaggle.com/andrewmvd/data-engineer-jobs"
   ]
  },
  {
   "cell_type": "markdown",
   "id": "6ffb3677-b764-4576-ad37-6f15719172ea",
   "metadata": {},
   "source": [
    "הורדה וייבוא של כל הספריות שבהם נשתמש במהלך הקובץ"
   ]
  },
  {
   "cell_type": "code",
   "execution_count": null,
   "id": "db7d5df6-6ca5-4b4c-bbbb-ce9ca6bed8a9",
   "metadata": {},
   "outputs": [],
   "source": [
    "pip install pandas"
   ]
  },
  {
   "cell_type": "code",
   "execution_count": null,
   "id": "cf5ad900-150d-4990-af4a-416d957d8710",
   "metadata": {},
   "outputs": [],
   "source": [
    "pip install matplotlib"
   ]
  },
  {
   "cell_type": "code",
   "execution_count": null,
   "id": "48ba870b-4939-4751-9bc8-0cb78d564931",
   "metadata": {},
   "outputs": [],
   "source": [
    "pip install seaborn"
   ]
  },
  {
   "cell_type": "code",
   "execution_count": null,
   "id": "8d545a3f-c53d-490e-b10a-29bf62a8acf3",
   "metadata": {},
   "outputs": [],
   "source": [
    "import pandas as pd\n",
    "import numpy as np\n",
    "import matplotlib.pyplot as plt\n",
    "from collections import defaultdict\n",
    "from matplotlib.ticker import FuncFormatter\n",
    "from matplotlib.ticker import PercentFormatter\n",
    "import seaborn as sns\n",
    "from os import path\n",
    "from PIL import Image\n"
   ]
  },
  {
   "cell_type": "code",
   "execution_count": null,
   "id": "bd178dc1-2a98-4005-bfd8-414a0fdd88a1",
   "metadata": {},
   "outputs": [],
   "source": [
    "data = 'https://raw.githubusercontent.com/shirtevet/project_Data-Engineer-Jobs/main/DataEngineer.csv'\n",
    "Data_Engineer= pd.read_csv(data)\n",
    "\n",
    "Data_Engineer"
   ]
  },
  {
   "cell_type": "markdown",
   "id": "0247652b-ff90-4afd-8976-d42684dc169a",
   "metadata": {},
   "source": [
    "הצגת הנתונים בטבלה"
   ]
  },
  {
   "cell_type": "code",
   "execution_count": null,
   "id": "813639f4-159a-474d-832f-f22c615269e8",
   "metadata": {},
   "outputs": [],
   "source": [
    "Data_Engineer.shape"
   ]
  },
  {
   "cell_type": "code",
   "execution_count": null,
   "id": "ff89dd2d-7489-4c05-ace1-992602db6a9e",
   "metadata": {},
   "outputs": [],
   "source": [
    "Data_Engineer[\"Job Title\"].value_counts()"
   ]
  },
  {
   "cell_type": "code",
   "execution_count": null,
   "id": "95d23fea-4b94-4f95-b750-303dce324c78",
   "metadata": {},
   "outputs": [],
   "source": [
    "Data_Engineer.columns"
   ]
  },
  {
   "cell_type": "markdown",
   "id": "551db60c-7f71-47a7-8939-9c18f381c791",
   "metadata": {},
   "source": [
    "בקובץ מופיע הערך חסר כ\"1-\" ולכן שינינו את כל הווריציות של ערכים אלה לנאן    "
   ]
  },
  {
   "cell_type": "code",
   "execution_count": null,
   "id": "bb372d82-82dc-4247-9870-642da145fceb",
   "metadata": {},
   "outputs": [],
   "source": [
    "Data_Engineer.replace(['-1'], [np.nan], inplace=True)\n",
    "Data_Engineer.replace(['-1.0'], [np.nan], inplace=True)\n",
    "Data_Engineer.replace([-1], [np.nan], inplace=True)\n",
    "Data_Engineer"
   ]
  },
  {
   "cell_type": "markdown",
   "id": "33db4c79-7d02-458b-88fd-b2af3a7dde36",
   "metadata": {},
   "source": [
    "בדיקה שאכן מילאנו את הערכים החסרים "
   ]
  },
  {
   "cell_type": "code",
   "execution_count": null,
   "id": "338b8d4a-6b84-4cae-a559-c2a5b892f5c6",
   "metadata": {},
   "outputs": [],
   "source": [
    "Data_Engineer.isnull().sum()"
   ]
  },
  {
   "cell_type": "markdown",
   "id": "d9cda07c-6fa8-4741-ade1-593f8ff4e238",
   "metadata": {},
   "source": [
    "טיפול בערכים חסרים"
   ]
  },
  {
   "cell_type": "markdown",
   "id": "af86d3c1-9f8e-4759-8e31-c41d418d640f",
   "metadata": {},
   "source": [
    "טיפול בערכים חסרים:\n",
    "את הערכים החסרים בעמודת הדירוג- מילאנו בממוצע הדירוגים (כך שזה לא ישפיע על הממוצע הכללי)\n",
    "\n",
    "את הערכים החסרים בעמודת מיקום ההנהלה של החברה- מילאנו במיקום החברה (מתוך היגיון)\n",
    "\n"
   ]
  },
  {
   "cell_type": "code",
   "execution_count": null,
   "id": "a14e5232-a98a-4c09-bc0d-5b057882ed9d",
   "metadata": {
    "tags": []
   },
   "outputs": [],
   "source": [
    "Data_Engineer[\"Rating\"].fillna(Data_Engineer[\"Rating\"].mean() , inplace=True)\n",
    "Data_Engineer[\"Headquarters\"].fillna(Data_Engineer[\"Location\"] , inplace=True)\n",
    "Data_Engineer"
   ]
  },
  {
   "cell_type": "markdown",
   "id": "1925a53a-aa73-4298-a4dc-3cdde95117af",
   "metadata": {
    "tags": []
   },
   "source": [
    "טיפול במשכורת:\n",
    "הורדת המלל המיותר בכדי שנוכל להשתמש במספרי המשכורות בלבד"
   ]
  },
  {
   "cell_type": "code",
   "execution_count": null,
   "id": "cb6c4469-bd77-4e1d-8d5f-a12936435312",
   "metadata": {},
   "outputs": [],
   "source": [
    "\n",
    "Data_Engineer['Salary Estimate'] = Data_Engineer['Salary Estimate'].str.replace('(','').str.replace(')','').str.replace('Glassdoor est.','').str.replace('Employer est.','')\n"
   ]
  },
  {
   "cell_type": "markdown",
   "id": "b5ec95c2-f8d2-4273-b9f6-7848d157463d",
   "metadata": {},
   "source": [
    "הוספת 2 עמודות חדשות, במקום עמודת הטווח של המשכורת. עמודה לכל קצה טווח- אחד למינימום ואחד למקסימום (כאשר מה שמפריד בין הערכים זה \"-\")\n",
    "בנוסף, הורדת רווחים וסימנים כדי שנוכל להשתמש במספרים לחישובים."
   ]
  },
  {
   "cell_type": "code",
   "execution_count": null,
   "id": "d735218b-37ce-4d47-9358-2f7dacbd9094",
   "metadata": {
    "tags": []
   },
   "outputs": [],
   "source": [
    "Data_Engineer['Minimom Salary'],Data_Engineer['Maximom Salary'] = Data_Engineer['Salary Estimate'].str.split('-').str\n",
    "Data_Engineer['Minimom Salary'] = Data_Engineer['Minimom Salary'].str.strip(' ').str.strip('$').str.strip('K').fillna(0).astype(int)\n",
    "Data_Engineer['Maximom Salary'] = Data_Engineer['Maximom Salary'].str.strip(' ').str.strip('$').str.strip('K').fillna(0).astype(int)\n",
    "Data_Engineer"
   ]
  },
  {
   "cell_type": "markdown",
   "id": "4323823e-5d16-4a4c-95de-503c272190d3",
   "metadata": {},
   "source": [
    "<font size=\"5\"> תובנה ראשונה  </font>\n"
   ]
  },
  {
   "cell_type": "markdown",
   "id": "88796e8c-e624-4476-8532-6dbbfb9956a1",
   "metadata": {},
   "source": [
    "מיינו את כל העבודות על פי הכנסת החברה.\n",
    "הדפסנו היסטוגרמה וגרף נקודות של רווח החברה ולמולו המשכורת של העובד\n",
    "התובנה היא כי ניתן לראות שלא בהכרח ישנה משכורת גבוהה יותר בחברה רווחית יותר"
   ]
  },
  {
   "cell_type": "code",
   "execution_count": null,
   "id": "688d79dd-39a6-4e0b-a2e3-291a510bbfee",
   "metadata": {
    "tags": []
   },
   "outputs": [],
   "source": [
    "count_rev = Data_Engineer.groupby('Revenue')[['Job Title']].count().reset_index().rename(columns={'Job Title':'Count'}).sort_values('Count', ascending=False).reset_index(drop=True)\n",
    "count_rev = count_rev.merge(Data_Engineer, on='Revenue',how='left')\n",
    "#sns.set(style=\"whitegrid\")\n",
    "f, (ax_bar, ax_point) = plt.subplots(ncols=2, sharey=True, gridspec_kw= {\"width_ratios\":(0.8,1)},figsize=(16,6))\n",
    "sns.barplot(x='Count',y='Revenue',data=count_rev ,ax=ax_bar)\n",
    "sns.pointplot(x='Minimom Salary',y='Revenue',data=count_rev , join=False,ax=ax_point).set(ylabel=\"\",xlabel=\"Salary in k($)\")\n"
   ]
  },
  {
   "cell_type": "markdown",
   "id": "248256fc-6a3d-4290-b9f5-15d805235ef8",
   "metadata": {},
   "source": [
    "<font size=\"5\"> תובנה שנייה  </font>"
   ]
  },
  {
   "cell_type": "markdown",
   "id": "99868b6f-ad6f-41d3-9386-3a8653755fe8",
   "metadata": {},
   "source": [
    "המשך סידור העמודות והצגת פרטים"
   ]
  },
  {
   "cell_type": "markdown",
   "id": "2ebf8dde-69dd-4f3c-b1db-7a7928dc22ec",
   "metadata": {},
   "source": [
    "הוספת עמודה של משכורת ממוצעת (לפי מינימום ומקסימום חלקי שתיים)"
   ]
  },
  {
   "cell_type": "code",
   "execution_count": null,
   "id": "bff20023-3167-4a4a-bb31-070fae065560",
   "metadata": {
    "tags": []
   },
   "outputs": [],
   "source": [
    "Data_Engineer['Mean_Salary'] = (Data_Engineer['Minimom Salary']+Data_Engineer['Maximom Salary'])/2 \n",
    "Data_Engineer"
   ]
  },
  {
   "cell_type": "code",
   "execution_count": null,
   "id": "cf175eb9-aa46-4817-af95-3449dbd57213",
   "metadata": {},
   "outputs": [],
   "source": [
    "box_rating = sns.boxplot(x=Data_Engineer[\"Rating\"])\n",
    "box_rating.set_title(\"boxplot of company rating\")"
   ]
  },
  {
   "cell_type": "code",
   "execution_count": null,
   "id": "fa4289e5-4064-49ff-b737-e51661d58ec1",
   "metadata": {
    "tags": []
   },
   "outputs": [],
   "source": [
    "Data_Engineer.Rating.plot(kind='hist')\n",
    "plt.title('Rating')\n",
    "plt.grid\n",
    "plt.show()"
   ]
  },
  {
   "cell_type": "markdown",
   "id": "b391c9f4-8680-43c3-a768-065cc986f5b4",
   "metadata": {},
   "source": [
    "הגרפים המוצגים לעיל מראים את התפלגות הדירוג לפי טבלת הנתונים    \n",
    "לפי גרפים אלו, ניתן לראות כי מירב החברות קיבלו דירוג הנע בין 3.5-4 מתוך טווח של 1-5"
   ]
  },
  {
   "cell_type": "code",
   "execution_count": null,
   "id": "54317796-cef3-4836-899c-14565f3378ed",
   "metadata": {
    "tags": []
   },
   "outputs": [],
   "source": [
    "Data_Engineer.Mean_Salary.plot(kind='hist')\n",
    "plt.title('Mean Salary Estimate')\n",
    "plt.xlabel('salary')\n",
    "plt.grid\n",
    "plt.show()"
   ]
  },
  {
   "cell_type": "code",
   "execution_count": null,
   "id": "80a16f99-70ef-4263-b145-03930aab3445",
   "metadata": {},
   "outputs": [],
   "source": [
    "box_salary = sns.boxplot(x=Data_Engineer[\"Mean_Salary\"])\n",
    "box_salary.set_title(\"boxplot of mean salary\")"
   ]
  },
  {
   "cell_type": "markdown",
   "id": "4c3c2a4e-cc6b-46f5-a1b2-c11022f46e69",
   "metadata": {},
   "source": [
    "הגרפים המוצגים לעיל מראים את התפלגות המשכורת לפי טבלת הנתונים   \n",
    "על בסיס גרפים אלו ניתן לראות כי השכר הממוצע לעובד נע בין 75-115 דולר"
   ]
  },
  {
   "cell_type": "code",
   "execution_count": null,
   "id": "367415b3-07d4-419c-a6a5-eede0159a4ff",
   "metadata": {},
   "outputs": [],
   "source": [
    "Data_Engineer[['Rating','Mean_Salary']]"
   ]
  },
  {
   "cell_type": "markdown",
   "id": "e0bcc852-fbcb-4e28-ba5a-497a597e84b5",
   "metadata": {},
   "source": [
    "עמודת דירוג החברה בהשוואה לעמודת השכר הממוצע לעובד"
   ]
  },
  {
   "cell_type": "code",
   "execution_count": null,
   "id": "4ef4127d-d1f7-4238-84e4-597d96ad43be",
   "metadata": {
    "tags": []
   },
   "outputs": [],
   "source": [
    "fig = plt.figure(figsize=(15,5))\n",
    "sns.barplot(x='Rating', y='Mean_Salary', data=Data_Engineer)\n",
    "plt.ylabel('Salary (USD)')\n",
    "plt.xlabel('Company Rating ( According to Glassdoor website)')\n",
    "plt.title('Company Ratings vs Mean Salary',fontsize=18)\n",
    "plt.show()"
   ]
  },
  {
   "cell_type": "markdown",
   "id": "f5eae45a-c634-4f92-b39a-3965150aab78",
   "metadata": {},
   "source": [
    "הסבר התובנה - כאשר חשבנו על הדירוג אותו קיבלה החברה והשכר של העובד בה, מה שמתבקש הוא להסיק כי ישנו קשר ישיר בין המשתנים. ניתן לחשוב כי השכר של העובד יעלה ככל שהחברה תצליח יותר, כלומר תקבל דירוג גבוה יותר, זאת על בסיס הנטייה לחשוב כי דירוג גבוה מוביל להצלחת החברה, וכי הצלחת החברה מובילה להכנסה גבוהה. הכנסה זו תתחלק בין העובדים ומכאן כי ככל שהדירוג גבוה, הכנסת העובד גבוהה\n",
    "אמנם, על בסיס ניתוח הנתונים שביצענו במסגרת מחקר על הדאטה בתחומים אלה, ניתן לראות בבירור כי הסקתנו הייתה שגויה.לא קיים קשר בין גובה הדירוג שהחברה קיבלה לבין השכר הממוצע של העובד. לפי הדיאגרמה המראה את הקשר בין הדירוג לשכר, ניכר כי רמת השכר מתפלגת בצורה כמעט אחידה בהשוואה לדירוג החברה. ניתן להבין שבחברה בעלת דירוג נמוך ובחברה בעלת דירוג גבוה, שכר העובד יכול להיות זהה \n",
    "בנוסף, ניתן לאשש תובנה זו באמצעות העובד שקיבל בממוצע את השכר הגבוה ביותר, עובד זה נמצא בחברה שקיבלה ציון נמוך מאוד בדירוג, העומד על 1.5 מתוך 5"
   ]
  },
  {
   "cell_type": "markdown",
   "id": "3910b934-b894-405f-8682-67826df0a70e",
   "metadata": {},
   "source": [
    "<font size=\"5\"> תובנה שלישית  </font>"
   ]
  },
  {
   "cell_type": "markdown",
   "id": "eb02be35-f4a2-49de-a061-99b05c77a8b4",
   "metadata": {
    "tags": []
   },
   "source": [
    "הגרף המוצג מראה את התפלגות התפקידים הנפוצים בשוק העבודה לפי קובץ הנתונים"
   ]
  },
  {
   "cell_type": "code",
   "execution_count": null,
   "id": "bdc5d0f1-e836-4b1e-9f58-b12bccacf224",
   "metadata": {},
   "outputs": [],
   "source": [
    "Data_Engineer_sectors = Data_Engineer.Sector.value_counts().sort_values(ascending=False).head(n=10)\n",
    "\n",
    "axs = plt.subplots(nrows=1, ncols=1, figsize=(20, 10))\n",
    "Data_Engineer_sectors.plot.bar(x='sectors and industries', y='%', rot=0)"
   ]
  },
  {
   "cell_type": "markdown",
   "id": "8fc2628c-531e-4673-88d6-466a738c3dce",
   "metadata": {},
   "source": [
    "לפי גרף זה ניתן לראות כי התחום בו הביקוש הגבוה ביותר לעובדים הינו תחום טכנולוגיית המידע. לאחריו, מגיע תחום השירותים הפיננסיים"
   ]
  },
  {
   "cell_type": "code",
   "execution_count": null,
   "id": "621cd1bf-52a5-483f-8d48-82d2d139d372",
   "metadata": {},
   "outputs": [],
   "source": [
    "fig = plt.figure(figsize=(15,5))\n",
    "sns.barplot(x='Mean_Salary', y='Sector', data=Data_Engineer)\n",
    "plt.ylabel('Sector ( According to Glassdoor website)')\n",
    "plt.xlabel('Salary (USD)')\n",
    "plt.title('Sector vs Mean Salary',fontsize=20)\n",
    "plt.show()"
   ]
  },
  {
   "cell_type": "markdown",
   "id": "b50f6b27-8818-4a94-b69e-f26359c81fec",
   "metadata": {},
   "source": [
    "בגרפים המוצגים לעיל ניתן לראות כי אין קשר בין כמות האנשים המועסקים בתחום לבין המשכורת שהם מרוויחים.\n",
    "לדוגמה, בתחום המדיה מרוויחים העובדים משכורת ממוצעת בין הגבוהות בענף. לעומת זאת, בתחום זה אין היצע גדול של עובדים.\n",
    "דוגמה נוספת לכך היא שבתחום טכנולוגיית המידע ובתחום השירותים הפיננסיים, כמות העובדים היא הגדולה ביותר ואילו המשכורת בתחומים אלו הינה ממוצעת "
   ]
  },
  {
   "cell_type": "code",
   "execution_count": null,
   "id": "12fb32e5-d0b6-4b6c-900e-bca885c1fc94",
   "metadata": {},
   "outputs": [],
   "source": []
  }
 ],
 "metadata": {
  "kernelspec": {
   "display_name": "Python 3 (ipykernel)",
   "language": "python",
   "name": "python3"
  },
  "language_info": {
   "codemirror_mode": {
    "name": "ipython",
    "version": 3
   },
   "file_extension": ".py",
   "mimetype": "text/x-python",
   "name": "python",
   "nbconvert_exporter": "python",
   "pygments_lexer": "ipython3",
   "version": "3.9.6"
  }
 },
 "nbformat": 4,
 "nbformat_minor": 5
}
